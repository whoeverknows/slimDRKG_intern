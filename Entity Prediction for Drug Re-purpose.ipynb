{
 "cells": [
  {
   "cell_type": "code",
   "execution_count": null,
   "metadata": {},
   "outputs": [],
   "source": [
    "import pandas as pd\n",
    "import numpy as np"
   ]
  },
  {
   "cell_type": "code",
   "execution_count": null,
   "metadata": {},
   "outputs": [],
   "source": [
    "entities = pd.read_csv('../ckpts/ComplEx_triple_1/entities.tsv',delimiter='\\t',names = ['id','entity'])\n",
    "relations = pd.read_csv('../ckpts/ComplEx_triple_1/relations.tsv',delimiter='\\t',names = ['id','rel'])"
   ]
  },
  {
   "cell_type": "code",
   "execution_count": null,
   "metadata": {},
   "outputs": [],
   "source": [
    "entities[:5]"
   ]
  },
  {
   "cell_type": "code",
   "execution_count": null,
   "metadata": {},
   "outputs": [],
   "source": [
    "entity2id = {}\n",
    "id2entity = {}\n",
    "for i in range(entities.shape[0]):\n",
    "    entity2id[entities['entity'].values[i]] = i\n",
    "    id2entity[i] = entities['entity'].values[i]"
   ]
  },
  {
   "cell_type": "code",
   "execution_count": null,
   "metadata": {},
   "outputs": [],
   "source": [
    "rel2id = {}\n",
    "id2rel = {}\n",
    "for i in range(relations.shape[0]):\n",
    "    rel2id[relations['rel'].values[i]] = i\n",
    "    id2rel[i] = relations['rel'].values[i]"
   ]
  },
  {
   "cell_type": "code",
   "execution_count": null,
   "metadata": {},
   "outputs": [],
   "source": [
    "rel_emb = np.load('../ckpts/ComplEx_triple_1/triple_ComplEx_relation.npy')\n",
    "print(rel_emb.shape)\n",
    "entity_emb = np.load('../ckpts/ComplEx_triple_1/triple_ComplEx_entity.npy')\n",
    "print(entity_emb.shape)"
   ]
  },
  {
   "cell_type": "code",
   "execution_count": null,
   "metadata": {},
   "outputs": [],
   "source": [
    "# relation_list = [9, 32,37, 46, 51, 7, 50]\n",
    "relation_list = [37]\n",
    "with open('./rel.list', 'w') as f:\n",
    "    for item in relation_list:\n",
    "        print(item)\n",
    "        f.write(\"%s\\n\" % item)"
   ]
  },
  {
   "cell_type": "code",
   "execution_count": null,
   "metadata": {},
   "outputs": [],
   "source": [
    "head = entities[entities.entity.str.contains('Compound') & (~entities.entity.str.contains('MESH')) &\n",
    "                (~entities.entity.str.contains('CHEBI'))]\n",
    "head_list = head.id.values.tolist()\n",
    "# head_list = [int(head.id.iloc[0])]\n",
    "\n",
    "# head_name = 'Compound::DB08907' #Canagliflozin\n",
    "# entity2id[head_name]\n",
    "# head_list = [145]\n",
    "with open('head.list', 'w') as f:\n",
    "    for item in head_list:\n",
    "        f.write(\"%s\\n\" % item)"
   ]
  },
  {
   "cell_type": "markdown",
   "metadata": {},
   "source": [
    "#### using dglke_precit command for link prediction."
   ]
  },
  {
   "cell_type": "code",
   "execution_count": null,
   "metadata": {},
   "outputs": [],
   "source": [
    "!DGLBACKEND=pytorch dglke_predict --model_path ckpts/ComplEx_triple_1/ --format 'h_r_*' --data_files head.list rel.list --score_func none --topK 100000 --gpu 0"
   ]
  },
  {
   "cell_type": "code",
   "execution_count": null,
   "metadata": {},
   "outputs": [],
   "source": [
    "triplets_df = pd.read_csv('../triplets_final.tsv', sep = '\\t', names = ['h','r','t'])\n",
    "result_df = pd.read_csv('./result.tsv', sep = '\\t')"
   ]
  },
  {
   "cell_type": "code",
   "execution_count": null,
   "metadata": {
    "scrolled": true
   },
   "outputs": [],
   "source": [
    "#head = 'Compound::DB09292' # Drug: Sacubitril (Entresto)\n",
    "#head = 'Compound::DB00177' # Drug Valsartan (Entresto)\n",
    "head = 'Compound::DB08868' # Drug Fingolimod (Gilenya)\n",
    "\n",
    "triplets = triplets_df[triplets_df.h.str.contains(head) & triplets_df.r.str.contains('Compound:Disease')] \n",
    "\n",
    "entity2id[head]\n",
    "results = result_df[result_df['head'] == entity2id[head]]\n",
    "results['tail1'] = [id2entity[results['tail'].iloc[id1]] for id1 in range(results.shape[0])]\n",
    "results['predict'] = results['tail1'].isin(triplets.t)\n",
    "\n",
    "predict_results = results[results['tail1'].str.contains('Disease') & (~results['tail1'].isin(triplets.t))]\n",
    "for id1 in range(predict_results.shape[0]):\n",
    "    print(id2entity[predict_results['tail'].iloc[id1]])"
   ]
  },
  {
   "cell_type": "code",
   "execution_count": null,
   "metadata": {},
   "outputs": [],
   "source": [
    "predict_results.head(19)"
   ]
  }
 ],
 "metadata": {
  "kernelspec": {
   "display_name": "Python 3",
   "language": "python",
   "name": "python3"
  },
  "language_info": {
   "codemirror_mode": {
    "name": "ipython",
    "version": 3
   },
   "file_extension": ".py",
   "mimetype": "text/x-python",
   "name": "python",
   "nbconvert_exporter": "python",
   "pygments_lexer": "ipython3",
   "version": "3.7.4"
  }
 },
 "nbformat": 4,
 "nbformat_minor": 2
}
